{
 "cells": [
  {
   "cell_type": "markdown",
   "id": "0d2e27b5",
   "metadata": {},
   "source": [
    "## HABUMUGISHA Emmanuel"
   ]
  },
  {
   "cell_type": "markdown",
   "id": "c8342dff",
   "metadata": {},
   "source": [
    "### 225229109"
   ]
  },
  {
   "cell_type": "markdown",
   "id": "9f79c7d4",
   "metadata": {},
   "source": [
    "#### Lab11.Exploration of Convolutional Neural Networks Design"
   ]
  },
  {
   "cell_type": "code",
   "execution_count": 1,
   "id": "5bac9c8a-bda7-4d2d-9043-c862c30b062e",
   "metadata": {},
   "outputs": [],
   "source": [
    "import time\n",
    "from tensorflow.keras.datasets import mnist\n",
    "from tensorflow.keras.models import Sequential\n",
    "from tensorflow.keras.layers import Conv2D, Flatten, Dense, MaxPooling2D\n",
    "from tensorflow.keras.optimizers import Adam"
   ]
  },
  {
   "cell_type": "code",
   "execution_count": 2,
   "id": "d08f20ae-7600-4802-a338-96eec941d2c8",
   "metadata": {},
   "outputs": [],
   "source": [
    "(x_train, y_train), (x_test, y_test) = mnist.load_data()\n",
    "x_train = x_train.reshape(x_train.shape[0], 28, 28, 1).astype('float32') / 255\n",
    "x_test = x_test.reshape(x_test.shape[0], 28, 28, 1).astype('float32') / 255"
   ]
  },
  {
   "cell_type": "code",
   "execution_count": 3,
   "id": "cb71ad37-f160-40e6-b8d9-458eaf852017",
   "metadata": {},
   "outputs": [
    {
     "name": "stdout",
     "output_type": "stream",
     "text": [
      "X_Train shape (60000, 28, 28, 1)\n",
      "Y_Train shape (60000,)\n",
      "X_Test shape (10000, 28, 28, 1)\n",
      "Y_Test shape (10000,)\n"
     ]
    }
   ],
   "source": [
    "print(\"X_Train shape\",x_train.shape)\n",
    "print(\"Y_Train shape\",y_train.shape)\n",
    "print(\"X_Test shape\",x_test.shape)\n",
    "print(\"Y_Test shape\",y_test.shape)"
   ]
  },
  {
   "cell_type": "markdown",
   "id": "a47f894c-c785-403d-8691-19b942e83638",
   "metadata": {},
   "source": [
    "##### Step-1"
   ]
  },
  {
   "cell_type": "code",
   "execution_count": 4,
   "id": "4b728d4d-ce05-47e1-82f1-7d7c043137eb",
   "metadata": {},
   "outputs": [],
   "source": [
    "def create_model(filters):\n",
    "    model = Sequential()\n",
    "    model.add(Conv2D(filters, (3, 3), activation='relu', input_shape=(28, 28, 1)))\n",
    "    model.add(Flatten())\n",
    "    model.add(Dense(10, activation='softmax'))\n",
    "    model.compile(optimizer=Adam(), loss='sparse_categorical_crossentropy', metrics=['accuracy'])\n",
    "    return model"
   ]
  },
  {
   "cell_type": "code",
   "execution_count": null,
   "id": "112b14f6-b119-435f-a7ad-f1a89a4941e9",
   "metadata": {},
   "outputs": [
    {
     "name": "stdout",
     "output_type": "stream",
     "text": [
      "Number of Filters: 4\n",
      "Model: \"sequential\"\n",
      "_________________________________________________________________\n",
      " Layer (type)                Output Shape              Param #   \n",
      "=================================================================\n",
      " conv2d (Conv2D)             (None, 26, 26, 4)         40        \n",
      "                                                                 \n",
      " flatten (Flatten)           (None, 2704)              0         \n",
      "                                                                 \n",
      " dense (Dense)               (None, 10)                27050     \n",
      "                                                                 \n",
      "=================================================================\n",
      "Total params: 27090 (105.82 KB)\n",
      "Trainable params: 27090 (105.82 KB)\n",
      "Non-trainable params: 0 (0.00 Byte)\n",
      "_________________________________________________________________\n",
      "Train Acc: 0.9745, Test Acc: 0.9706\n",
      "\n",
      "----------------------------------------------------------------------------------------------------------------------------------\n",
      "\n",
      "\n",
      "\n",
      "Number of Filters: 32\n",
      "Model: \"sequential_1\"\n",
      "_________________________________________________________________\n",
      " Layer (type)                Output Shape              Param #   \n",
      "=================================================================\n",
      " conv2d_1 (Conv2D)           (None, 26, 26, 32)        320       \n",
      "                                                                 \n",
      " flatten_1 (Flatten)         (None, 21632)             0         \n",
      "                                                                 \n",
      " dense_1 (Dense)             (None, 10)                216330    \n",
      "                                                                 \n",
      "=================================================================\n",
      "Total params: 216650 (846.29 KB)\n",
      "Trainable params: 216650 (846.29 KB)\n",
      "Non-trainable params: 0 (0.00 Byte)\n",
      "_________________________________________________________________\n",
      "Train Acc: 0.9908, Test Acc: 0.9805\n",
      "\n",
      "----------------------------------------------------------------------------------------------------------------------------------\n",
      "\n",
      "\n",
      "\n",
      "Number of Filters: 128\n",
      "Model: \"sequential_2\"\n",
      "_________________________________________________________________\n",
      " Layer (type)                Output Shape              Param #   \n",
      "=================================================================\n",
      " conv2d_2 (Conv2D)           (None, 26, 26, 128)       1280      \n",
      "                                                                 \n",
      " flatten_2 (Flatten)         (None, 86528)             0         \n",
      "                                                                 \n",
      " dense_2 (Dense)             (None, 10)                865290    \n",
      "                                                                 \n",
      "=================================================================\n",
      "Total params: 866570 (3.31 MB)\n",
      "Trainable params: 866570 (3.31 MB)\n",
      "Non-trainable params: 0 (0.00 Byte)\n",
      "_________________________________________________________________\n",
      "Train Acc: 0.9945, Test Acc: 0.9820\n",
      "\n",
      "----------------------------------------------------------------------------------------------------------------------------------\n",
      "\n",
      "\n",
      "\n",
      "Number of Filters: 512\n",
      "Model: \"sequential_3\"\n",
      "_________________________________________________________________\n",
      " Layer (type)                Output Shape              Param #   \n",
      "=================================================================\n",
      " conv2d_3 (Conv2D)           (None, 26, 26, 512)       5120      \n",
      "                                                                 \n",
      " flatten_3 (Flatten)         (None, 346112)            0         \n",
      "                                                                 \n",
      " dense_3 (Dense)             (None, 10)                3461130   \n",
      "                                                                 \n",
      "=================================================================\n",
      "Total params: 3466250 (13.22 MB)\n",
      "Trainable params: 3466250 (13.22 MB)\n",
      "Non-trainable params: 0 (0.00 Byte)\n",
      "_________________________________________________________________\n",
      "Train Acc: 0.9953, Test Acc: 0.9781\n",
      "\n",
      "----------------------------------------------------------------------------------------------------------------------------------\n",
      "\n",
      "\n",
      "\n",
      "Number of Filters: 2056\n",
      "Model: \"sequential_4\"\n",
      "_________________________________________________________________\n",
      " Layer (type)                Output Shape              Param #   \n",
      "=================================================================\n",
      " conv2d_4 (Conv2D)           (None, 26, 26, 2056)      20560     \n",
      "                                                                 \n",
      " flatten_4 (Flatten)         (None, 1389856)           0         \n",
      "                                                                 \n",
      " dense_4 (Dense)             (None, 10)                13898570  \n",
      "                                                                 \n",
      "=================================================================\n",
      "Total params: 13919130 (53.10 MB)\n",
      "Trainable params: 13919130 (53.10 MB)\n",
      "Non-trainable params: 0 (0.00 Byte)\n",
      "_________________________________________________________________\n"
     ]
    }
   ],
   "source": [
    "filter_values = [4, 32, 128, 512, 2056]\n",
    "for filters in filter_values:\n",
    "    print(f\"Number of Filters: {filters}\")\n",
    "    model = create_model(filters)\n",
    "    model.summary()\n",
    "    history = model.fit(x_train, y_train, epochs=5, validation_data=(x_test, y_test), verbose=0)\n",
    "    train_acc = history.history['accuracy'][-1]\n",
    "    test_acc = history.history['val_accuracy'][-1]\n",
    "    print(f\"Train Acc: {train_acc:.4f}, Test Acc: {test_acc:.4f}\\n\")\n",
    "    print(\"----------------------------------------------------------------------------------------------------------------------------------\")\n",
    "    print('\\n\\n')"
   ]
  },
  {
   "cell_type": "markdown",
   "id": "535d1755-d83c-4589-bd59-abcdb964dda8",
   "metadata": {},
   "source": [
    "##### Step-2"
   ]
  },
  {
   "cell_type": "code",
   "execution_count": null,
   "id": "15c0c1cb-1d33-4ffe-9fd4-fab0fd1c9277",
   "metadata": {},
   "outputs": [],
   "source": [
    "def create_model(num_layers):\n",
    "    model = Sequential()\n",
    "    for _ in range(num_layers):\n",
    "        model.add(Conv2D(32, (3, 3), activation='relu', input_shape=(28, 28, 1)))\n",
    "    model.add(Flatten())\n",
    "    model.add(Dense(10, activation='softmax'))\n",
    "    model.compile(optimizer=Adam(), loss='sparse_categorical_crossentropy', metrics=['accuracy'])\n",
    "    return model"
   ]
  },
  {
   "cell_type": "code",
   "execution_count": null,
   "id": "f746f711-c832-478e-9c7d-281f6400ba63",
   "metadata": {},
   "outputs": [],
   "source": [
    "layer_values = [2, 3, 4]\n",
    "for num_layers in layer_values:\n",
    "    print(f\"Number of Conv Layers: {num_layers}\")\n",
    "    model = create_model(num_layers)\n",
    "    model.summary()  \n",
    "    history = model.fit(x_train, y_train, epochs=5, validation_data=(x_test, y_test), verbose=0)\n",
    "    train_acc = history.history['accuracy'][-1]\n",
    "    test_acc = history.history['val_accuracy'][-1]\n",
    "    print(f\"Train Acc: {train_acc:.4f}, Test Acc: {test_acc:.4f}\\n\")\n",
    "    print(\"----------------------------------------------------------------------------------------------------------------------------------\")\n",
    "    print('\\n\\n')"
   ]
  },
  {
   "cell_type": "markdown",
   "id": "78e53a65-087d-488d-90e2-dfd02ebc18e6",
   "metadata": {},
   "source": [
    "##### Step-3"
   ]
  },
  {
   "cell_type": "code",
   "execution_count": null,
   "id": "4268a740-d85c-499d-b5fe-598825c4953d",
   "metadata": {},
   "outputs": [],
   "source": [
    "def create_model(filter_size):\n",
    "    model = Sequential()\n",
    "    for _ in range(2):\n",
    "        model.add(Conv2D(16, (filter_size, filter_size), activation='relu', input_shape=(28, 28, 1)))\n",
    "    model.add(Flatten())\n",
    "    model.add(Dense(10, activation='softmax'))\n",
    "    model.compile(optimizer=Adam(), loss='sparse_categorical_crossentropy', metrics=['accuracy'])\n",
    "    return model"
   ]
  },
  {
   "cell_type": "code",
   "execution_count": null,
   "id": "08b11e00-b937-4ed7-8774-6fae44436d7f",
   "metadata": {},
   "outputs": [],
   "source": [
    "filter_sizes = [3, 5, 7]\n",
    "for size in filter_sizes:\n",
    "    print(f\"Filter Size: {size}x{size}\")\n",
    "    model = create_model(size)\n",
    "    model.summary()  \n",
    "    history = model.fit(x_train, y_train, epochs=5, validation_data=(x_test, y_test), verbose=0)\n",
    "    train_acc = history.history['accuracy'][-1]\n",
    "    test_acc = history.history['val_accuracy'][-1]\n",
    "    print(f\"Train Acc: {train_acc:.4f}, Test Acc: {test_acc:.4f}\\n\")\n",
    "    print(\"----------------------------------------------------------------------------------------------------------------------------------\")\n",
    "    print('\\n\\n')"
   ]
  },
  {
   "cell_type": "code",
   "execution_count": null,
   "id": "e080aef1-9207-4985-88b2-b315662b5eb4",
   "metadata": {},
   "outputs": [],
   "source": [
    "\n"
   ]
  },
  {
   "cell_type": "markdown",
   "id": "5ac6b77c-ec88-427d-8bf0-54549a89e091",
   "metadata": {},
   "source": [
    "##### Step-4"
   ]
  },
  {
   "cell_type": "code",
   "execution_count": null,
   "id": "bfbe375e-627c-4566-8524-af221d05af8b",
   "metadata": {},
   "outputs": [],
   "source": [
    "def create_model(activation):\n",
    "    model = Sequential()\n",
    "    model.add(Conv2D(16, (3, 3), activation=activation, input_shape=(28, 28, 1)))\n",
    "    model.add(Conv2D(16, (3, 3), activation=activation))\n",
    "    model.add(Flatten())\n",
    "    model.add(Dense(10, activation='softmax'))\n",
    "    model.compile(optimizer=Adam(), loss='sparse_categorical_crossentropy', metrics=['accuracy'])\n",
    "    return model"
   ]
  },
  {
   "cell_type": "code",
   "execution_count": null,
   "id": "56453568-fb54-4340-8224-0ee5d3f83425",
   "metadata": {},
   "outputs": [],
   "source": [
    "activation_functions = ['sigmoid', 'tanh', 'relu']\n",
    "for activation in activation_functions:\n",
    "    print(f\"Activation Function: {activation}\")\n",
    "    model = create_model(activation)\n",
    "    model.summary()  \n",
    "    history = model.fit(x_train, y_train, epochs=5, validation_data=(x_test, y_test), verbose=0)\n",
    "    train_acc = history.history['accuracy'][-1]\n",
    "    test_acc = history.history['val_accuracy'][-1]\n",
    "    print(f\"Train Acc: {train_acc:.4f}, Test Acc: {test_acc:.4f}\\n\")\n",
    "    print(\"----------------------------------------------------------------------------------------------------------------------------------\")\n",
    "    print('\\n\\n')"
   ]
  },
  {
   "cell_type": "markdown",
   "id": "4c5291be-d792-4b90-8c99-97f4dc1e2f5b",
   "metadata": {},
   "source": [
    "##### Step-5"
   ]
  },
  {
   "cell_type": "code",
   "execution_count": null,
   "id": "4af0bfe7-c7f9-4611-82bc-f786c4301c24",
   "metadata": {},
   "outputs": [],
   "source": [
    "def create_model(filter_sizes):\n",
    "    model = Sequential()\n",
    "    model.add(Conv2D(16, (filter_sizes[0], filter_sizes[0]), activation='relu', input_shape=(28, 28, 1)))\n",
    "    model.add(Conv2D(16, (filter_sizes[1], filter_sizes[1]), activation='relu'))\n",
    "    model.add(Flatten())\n",
    "    model.add(Dense(10, activation='softmax'))\n",
    "    model.compile(optimizer=Adam(), loss='sparse_categorical_crossentropy', metrics=['accuracy'])\n",
    "    return model"
   ]
  },
  {
   "cell_type": "code",
   "execution_count": null,
   "id": "ee83fd5b-0207-4171-ab97-8444e8feed14",
   "metadata": {},
   "outputs": [],
   "source": [
    "filter_size_combinations = [(3, 3), (3, 5), (5, 3), (5, 5)]\n",
    "for filter_sizes in filter_size_combinations:\n",
    "    print(f\"Filter Sizes: {filter_sizes}\")\n",
    "    model = create_model(filter_sizes)\n",
    "    model.summary()  \n",
    "    history = model.fit(x_train, y_train, epochs=5, validation_data=(x_test, y_test), verbose=0)\n",
    "    train_acc = history.history['accuracy'][-1]\n",
    "    test_acc = history.history['val_accuracy'][-1]\n",
    "    print(f\"Train Acc: {train_acc:.4f}, Test Acc: {test_acc:.4f}\\n\")\n",
    "    print(\"----------------------------------------------------------------------------------------------------------------------------------\")\n",
    "    print('\\n\\n')"
   ]
  },
  {
   "cell_type": "markdown",
   "id": "f2574d7b-4274-44fc-a48a-9f97f21ac865",
   "metadata": {},
   "source": [
    "##### Step-6"
   ]
  },
  {
   "cell_type": "code",
   "execution_count": null,
   "id": "cb1542eb-f619-4b3b-bbf0-b969eab05f9f",
   "metadata": {},
   "outputs": [],
   "source": [
    "def create_model(num_filters):\n",
    "    model = Sequential()\n",
    "    model.add(Conv2D(num_filters[0], (3, 3), activation='relu', input_shape=(28, 28, 1)))\n",
    "    model.add(Conv2D(num_filters[1], (3, 3), activation='relu'))\n",
    "    model.add(Flatten())\n",
    "    model.add(Dense(10, activation='softmax'))\n",
    "    model.compile(optimizer=Adam(), loss='sparse_categorical_crossentropy', metrics=['accuracy'])\n",
    "    return model"
   ]
  },
  {
   "cell_type": "code",
   "execution_count": null,
   "id": "300bbce2-a367-4a83-bc8a-e8723875f3a0",
   "metadata": {},
   "outputs": [],
   "source": [
    "layer_filter_combinations = [(16, 16), (32, 16), (16, 32), (32, 32)]\n",
    "for num_filters in layer_filter_combinations:\n",
    "    print(f\"Layer Filters: {num_filters}\")\n",
    "    model = create_model(num_filters)\n",
    "    model.summary()  \n",
    "    history = model.fit(x_train, y_train, epochs=5, validation_data=(x_test, y_test), verbose=0)\n",
    "    train_acc = history.history['accuracy'][-1]\n",
    "    test_acc = history.history['val_accuracy'][-1]\n",
    "    print(f\"Train Acc: {train_acc:.4f}, Test Acc: {test_acc:.4f}\\n\")\n",
    "    print(\"----------------------------------------------------------------------------------------------------------------------------------\")\n",
    "    print('\\n\\n')"
   ]
  },
  {
   "cell_type": "markdown",
   "id": "e38a472b-181f-4e26-9de8-2827fb49b2bc",
   "metadata": {},
   "source": [
    "##### Step-7"
   ]
  },
  {
   "cell_type": "code",
   "execution_count": null,
   "id": "ed88c965-8481-45ac-be95-01582fc374d2",
   "metadata": {},
   "outputs": [],
   "source": [
    "def create_model(strides):\n",
    "    model = Sequential()\n",
    "    model.add(Conv2D(32, (3, 3), strides=strides[0], activation='relu', input_shape=(28, 28, 1)))\n",
    "    model.add(Conv2D(32, (3, 3), strides=strides[1], activation='relu'))\n",
    "    model.add(Flatten())\n",
    "    model.add(Dense(10, activation='softmax'))\n",
    "    model.compile(optimizer=Adam(), loss='sparse_categorical_crossentropy', metrics=['accuracy'])\n",
    "    return model"
   ]
  },
  {
   "cell_type": "code",
   "execution_count": null,
   "id": "8a5f817c-4346-4a97-a1af-21f17da52aaa",
   "metadata": {},
   "outputs": [],
   "source": [
    "stride_values = [(1, 1), (2, 2), (3, 3)]\n",
    "for strides in stride_values:\n",
    "    print(f\"Strides: {strides}\")\n",
    "    model = create_model(strides)\n",
    "    model.summary()  \n",
    "    history = model.fit(x_train, y_train, epochs=5, validation_data=(x_test, y_test), verbose=0)\n",
    "    train_acc = history.history['accuracy'][-1]\n",
    "    test_acc = history.history['val_accuracy'][-1]\n",
    "    print(f\"Train Acc: {train_acc:.4f}, Test Acc: {test_acc:.4f}\\n\")\n",
    "    print(\"----------------------------------------------------------------------------------------------------------------------------------\")\n",
    "    print('\\n\\n')"
   ]
  },
  {
   "cell_type": "markdown",
   "id": "daddb9c5-2d9f-4854-b3bb-1cd76d044d6c",
   "metadata": {},
   "source": [
    "##### Step-8"
   ]
  },
  {
   "cell_type": "code",
   "execution_count": null,
   "id": "9ecd6f06-7a7a-4af9-95fa-aaeb8648f9ec",
   "metadata": {},
   "outputs": [],
   "source": [
    "def create_model(padding_mode):\n",
    "    model = Sequential()\n",
    "    model.add(Conv2D(32, (3, 3), padding=padding_mode, activation='relu', input_shape=(28, 28, 1)))\n",
    "    model.add(Conv2D(32, (3, 3), padding=padding_mode, activation='relu'))\n",
    "    model.add(Flatten())\n",
    "    model.add(Dense(10, activation='softmax'))\n",
    "    model.compile(optimizer=Adam(), loss='sparse_categorical_crossentropy', metrics=['accuracy'])\n",
    "    return model"
   ]
  },
  {
   "cell_type": "code",
   "execution_count": null,
   "id": "b6200663-3a91-4306-883d-61a6168b6cd8",
   "metadata": {},
   "outputs": [],
   "source": [
    "padding_modes = ['valid', 'same']\n",
    "for padding_mode in padding_modes:\n",
    "    print(f\"Padding Mode: {padding_mode}\")\n",
    "    model = create_model(padding_mode)\n",
    "    model.summary()   \n",
    "    history = model.fit(x_train, y_train, epochs=5, validation_data=(x_test, y_test), verbose=0)\n",
    "    train_acc = history.history['accuracy'][-1]\n",
    "    test_acc = history.history['val_accuracy'][-1]\n",
    "    print(f\"Train Acc: {train_acc:.4f}, Test Acc: {test_acc:.4f}\\n\")\n",
    "    print(\"----------------------------------------------------------------------------------------------------------------------------------\")\n",
    "    print('\\n\\n')"
   ]
  },
  {
   "cell_type": "markdown",
   "id": "52bba0e3-8423-43f9-9ac0-4ed57584b4ae",
   "metadata": {},
   "source": [
    "##### Step-9"
   ]
  },
  {
   "cell_type": "code",
   "execution_count": null,
   "id": "a998cc20-2373-4075-8f88-352ee11ef141",
   "metadata": {},
   "outputs": [],
   "source": [
    "def create_model(pooling_size):\n",
    "    model = Sequential()\n",
    "    model.add(Conv2D(32, (3, 3), activation='relu', input_shape=(28, 28, 1)))\n",
    "    model.add(Conv2D(32, (3, 3), activation='relu'))\n",
    "    model.add(MaxPooling2D(pool_size=pooling_size))\n",
    "    model.add(Flatten())\n",
    "    model.add(Dense(10, activation='softmax'))\n",
    "    model.compile(optimizer=Adam(), loss='sparse_categorical_crossentropy', metrics=['accuracy'])\n",
    "    return model"
   ]
  },
  {
   "cell_type": "code",
   "execution_count": null,
   "id": "8a9d2e7e-797e-4223-9876-9fc744b52415",
   "metadata": {},
   "outputs": [],
   "source": [
    "pooling_sizes = [(2, 2), (3, 3)]\n",
    "for pooling_size in pooling_sizes:\n",
    "    print(f\"Pooling Size: {pooling_size[0]}x{pooling_size[1]}\")\n",
    "    model = create_model(pooling_size)\n",
    "    model.summary()  \n",
    "    history = model.fit(x_train, y_train, epochs=5, validation_data=(x_test, y_test), verbose=0)\n",
    "    train_acc = history.history['accuracy'][-1]\n",
    "    test_acc = history.history['val_accuracy'][-1]\n",
    "    print(f\"Train Acc: {train_acc:.4f}, Test Acc: {test_acc:.4f}\\n\")\n",
    "    print(\"----------------------------------------------------------------------------------------------------------------------------------\")\n",
    "    print('\\n\\n')"
   ]
  },
  {
   "cell_type": "code",
   "execution_count": null,
   "id": "ed051546-f0d2-4cd4-b8fd-186265d7d992",
   "metadata": {},
   "outputs": [],
   "source": []
  }
 ],
 "metadata": {
  "kernelspec": {
   "display_name": "Python 3 (ipykernel)",
   "language": "python",
   "name": "python3"
  },
  "language_info": {
   "codemirror_mode": {
    "name": "ipython",
    "version": 3
   },
   "file_extension": ".py",
   "mimetype": "text/x-python",
   "name": "python",
   "nbconvert_exporter": "python",
   "pygments_lexer": "ipython3",
   "version": "3.9.13"
  }
 },
 "nbformat": 4,
 "nbformat_minor": 5
}
